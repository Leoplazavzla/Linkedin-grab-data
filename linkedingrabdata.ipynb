{
 "cells": [
  {
   "cell_type": "code",
   "execution_count": 1,
   "metadata": {},
   "outputs": [],
   "source": [
    "import os\n",
    "import random\n",
    "import sys\n",
    "import time\n",
    "from urllib.parse import urlparse\n",
    "from selenium.common.exceptions import ElementNotInteractableException\n",
    "from selenium import webdriver\n",
    "from selenium.webdriver.common.keys import Keys\n",
    "from selenium.webdriver.support.ui import Select\n",
    "from selenium.webdriver.common.by import By\n",
    "from selenium.webdriver.support.ui import WebDriverWait\n",
    "from selenium.webdriver.support import expected_conditions as EC\n",
    "\n",
    "from bs4 import BeautifulSoup\n",
    "import pandas as pd"
   ]
  },
  {
   "cell_type": "code",
   "execution_count": 2,
   "metadata": {},
   "outputs": [],
   "source": [
    "# Open Webdriver\n",
    "options = webdriver.ChromeOptions()\n",
    "options.add_experimental_option('excludeSwitches', ['enable-logging'])\n",
    "driver = webdriver.Chrome('chromedriver.exe', options=options)\n",
    "driver.set_window_size(800,800)\n",
    "# Getting login details\n",
    "file = open('config.txt')\n",
    "lines = file.readlines()\n",
    "username = lines[0]\n",
    "password = lines[1]\n",
    "globalPauseTime = 3\n",
    "\n",
    "# LinkedIn login page\n",
    "driver.get('https://www.linkedin.com/uas/login')\n",
    "\n",
    "# Insert Username\n",
    "elementID = driver.find_element_by_id('username')\n",
    "elementID.send_keys(username)\n",
    "\n",
    "# Insert Password\n",
    "elementID = driver.find_element_by_id('password')\n",
    "elementID.send_keys(password)\n",
    "time.sleep(globalPauseTime)\n",
    "\n",
    "# Submit\n",
    "elementID.submit()\n"
   ]
  },
  {
   "cell_type": "code",
   "execution_count": 3,
   "metadata": {},
   "outputs": [],
   "source": [
    "# Reading excel file with LinkedIn Accounts\n",
    "dataLocation = \"accounts.xlsx\"\n",
    "df = pd.read_excel(dataLocation)\n",
    "\n",
    "# Check number of rows\n",
    "rows = len(df)"
   ]
  },
  {
   "cell_type": "code",
   "execution_count": 4,
   "metadata": {},
   "outputs": [
    {
     "name": "stdout",
     "output_type": "stream",
     "text": [
      "https://www.linkedin.com/company/10665055/   Truenorth · Full-time\n",
      "Truenorth · Full-time\n",
      "Mariano Obligado 2nd Head of Talent Acquisition | Argentina, Uruguay, Colombia Argentina\n"
     ]
    }
   ],
   "source": [
    "# Looking for each account\n",
    "for row in range(rows):\n",
    "    studentAccount = df.loc[row][0]\n",
    "    searchURL = studentAccount\n",
    "    driver.get(searchURL)\n",
    "\n",
    "    # scrolling to the bottom and top again\n",
    "    scrollPauseTime = 3\n",
    "    height = driver.execute_script(\"return document.documentElement.scrollHeight\")\n",
    "    for i in range(1):\n",
    "        # Scroll to the middle of the page\n",
    "        driver.execute_script(\"window.scrollTo(0, \" + str(height/2) + \");\")\n",
    "        time.sleep(scrollPauseTime-1)\n",
    "        # Scroll to the bottom of the page\n",
    "        driver.execute_script(\"window.scrollTo(0, \" + str(height) + \");\")\n",
    "        # Scroll to the top of the page\n",
    "        time.sleep(scrollPauseTime+1)\n",
    "        driver.execute_script(\"window.scrollTo(0, 0); \")\n",
    "        \n",
    "\n",
    "\n",
    "        wait= WebDriverWait(driver, 5)\n",
    "        connection = driver.find_element_by_class_name('dist-value').get_attribute(\"innerHTML\").strip()\n",
    "        if(connection == '1st'):\n",
    "            name = driver.find_element_by_class_name('text-heading-xlarge').get_attribute(\"innerHTML\")\n",
    "            job_title = driver.find_element_by_class_name('text-body-medium break-words'.replace(' ', '.')).get_attribute(\"innerHTML\").strip()\n",
    "            location = driver.find_element_by_class_name('text-body-small inline t-black--light break-words'.replace(' ', '.')).get_attribute(\"innerHTML\").strip()\n",
    "            time.sleep(scrollPauseTime+1)\n",
    "            company_link = driver.find_element(By.XPATH, \"//*[@data-field='experience_company_logo']\").get_attribute(\"href\")\n",
    "            company_name = driver.find_element(By.XPATH, \"//a[@data-field='experience_company_logo']//span[@class='t-14 t-normal']\").text.strip()\n",
    "            contactDetails = driver.find_element_by_link_text('Contact info')\n",
    "            contactDetails.click()\n",
    "            time.sleep(scrollPauseTime+2)\n",
    "            email_section =  driver.find_element(By.XPATH, \"//section[@class='pv-contact-info__contact-type ci-email']\")\n",
    "            email = email_section.find_element_by_class_name('pv-contact-info__contact-link link-without-visited-state t-14'.replace(' ', '.')).get_attribute(\"innerHTML\").strip()\n",
    "            df.loc[row, 'jobtitle'] = job_title\n",
    "            df.loc[row, 'location'] = location\n",
    "            df.loc[row, 'companylink'] = company_link\n",
    "            df.loc[row, 'companyname'] = company_name\n",
    "            df.loc[row, 'email'] = email\n",
    "            df.to_excel(dataLocation, index=False)\n",
    "            print(company_link, \" \", email)\n",
    "            print(name, connection, job_title, location)\n",
    "        else:\n",
    "            name = driver.find_element_by_class_name('text-heading-xlarge').get_attribute(\"innerHTML\")\n",
    "            job_title = driver.find_element_by_class_name('text-body-medium break-words'.replace(' ', '.')).get_attribute(\"innerHTML\").strip()\n",
    "            location = driver.find_element_by_class_name('text-body-small inline t-black--light break-words'.replace(' ', '.')).get_attribute(\"innerHTML\").strip()\n",
    "            time.sleep(scrollPauseTime+1)\n",
    "            company_link = driver.find_element(By.XPATH, \"//*[@data-field='experience_company_logo']\").get_attribute(\"href\")\n",
    "            company_name = driver.find_element(By.XPATH, \"//a[@data-field='experience_company_logo']//span[@class='t-14 t-normal']\").text.strip()\n",
    "            #company_name = company.find_element(By.XPATH, \"//span[2][@aria-hidden='true']\").get_attribute(\"innerHTML\")\n",
    "            df.loc[row, 'jobtitle'] = job_title\n",
    "            df.loc[row, 'location'] = location\n",
    "            df.loc[row, 'companylink'] = company_link\n",
    "            df.loc[row, 'companyname'] = company_name\n",
    "            df.to_excel(dataLocation, index=False)\n",
    "            print(company_link, \" \", company_name)\n",
    "            print(name, connection, job_title, location)"
   ]
  },
  {
   "cell_type": "code",
   "execution_count": null,
   "metadata": {},
   "outputs": [],
   "source": []
  }
 ],
 "metadata": {
  "interpreter": {
   "hash": "5ddbd716a54ef944e51b72047170215a57d4f28d5f81f1608eccc619de852ca2"
  },
  "kernelspec": {
   "display_name": "Python 3.9.6 64-bit",
   "language": "python",
   "name": "python3"
  },
  "language_info": {
   "codemirror_mode": {
    "name": "ipython",
    "version": 3
   },
   "file_extension": ".py",
   "mimetype": "text/x-python",
   "name": "python",
   "nbconvert_exporter": "python",
   "pygments_lexer": "ipython3",
   "version": "3.9.6"
  },
  "orig_nbformat": 4
 },
 "nbformat": 4,
 "nbformat_minor": 2
}
